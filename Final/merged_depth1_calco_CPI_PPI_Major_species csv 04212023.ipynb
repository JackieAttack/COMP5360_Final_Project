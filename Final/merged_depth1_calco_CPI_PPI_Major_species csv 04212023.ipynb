{
 "cells": [
  {
   "cell_type": "code",
   "execution_count": 1,
   "id": "71b53fe5",
   "metadata": {},
   "outputs": [],
   "source": [
    "import pandas as pd\n",
    "import numpy as np"
   ]
  },
  {
   "cell_type": "code",
   "execution_count": 2,
   "id": "0873dc3c",
   "metadata": {},
   "outputs": [],
   "source": [
    "Major_group_by_year = pd.read_csv(\"Major_group_by_year.csv\")\n",
    "species_by_year = pd.read_csv(\"species_by_year.csv\")"
   ]
  },
  {
   "cell_type": "code",
   "execution_count": 3,
   "id": "7e6f53aa",
   "metadata": {},
   "outputs": [],
   "source": [
    "# merge Major and species df on \"year_month\" column\n",
    "merged_Major_species_df = pd.merge(Major_group_by_year, species_by_year, on='PERIOD', how='outer')"
   ]
  },
  {
   "cell_type": "code",
   "execution_count": 4,
   "id": "1a659e72",
   "metadata": {},
   "outputs": [],
   "source": [
    "#change the column name PERIOD to Year\n",
    "merged_Major_species_df.rename(columns={'PERIOD':'Year'}, inplace=True)"
   ]
  },
  {
   "cell_type": "code",
   "execution_count": 6,
   "id": "b8d32a4a",
   "metadata": {},
   "outputs": [],
   "source": [
    "merged_CalCOF_Dep0_CPI_PPI_df = pd.read_csv('merged_depth0_data_by_year_raw.csv')\n",
    "# merge the dataframes on the \"Year\" column\n",
    "merged_depth0_calco_CPI_PPI_Major_species_df = pd.merge(merged_CalCOF_Dep0_CPI_PPI_df, merged_Major_species_df, on=\"Year\",how='outer')"
   ]
  },
  {
   "cell_type": "code",
   "execution_count": 7,
   "id": "a825c86c",
   "metadata": {},
   "outputs": [],
   "source": [
    "merged_depth0_calco_CPI_PPI_Major_species_df.to_csv('merged_depth0_calco_CPI_PPI_Major_species.csv', index=False)"
   ]
  },
  {
   "cell_type": "code",
   "execution_count": 8,
   "id": "0bcabb1d",
   "metadata": {},
   "outputs": [],
   "source": [
    "merged_CalCOF_Dep1_CPI_PPI_df = pd.read_csv('merged_depth1_data_by_year_raw.csv')\n",
    "# merge the dataframes on the \"Year\" column\n",
    "merged_depth1_calco_CPI_PPI_Major_species_df = pd.merge(merged_CalCOF_Dep1_CPI_PPI_df, merged_Major_species_df, on=\"Year\",how='outer')"
   ]
  },
  {
   "cell_type": "code",
   "execution_count": 9,
   "id": "1bb2b0ee",
   "metadata": {},
   "outputs": [],
   "source": [
    "merged_depth1_calco_CPI_PPI_Major_species_df.to_csv('merged_depth1_calco_CPI_PPI_Major_species.csv', index=False)"
   ]
  },
  {
   "cell_type": "code",
   "execution_count": null,
   "id": "d90eb7ec",
   "metadata": {},
   "outputs": [],
   "source": []
  }
 ],
 "metadata": {
  "kernelspec": {
   "display_name": "Python 3",
   "language": "python",
   "name": "python3"
  },
  "language_info": {
   "codemirror_mode": {
    "name": "ipython",
    "version": 3
   },
   "file_extension": ".py",
   "mimetype": "text/x-python",
   "name": "python",
   "nbconvert_exporter": "python",
   "pygments_lexer": "ipython3",
   "version": "3.8.8"
  }
 },
 "nbformat": 4,
 "nbformat_minor": 5
}
