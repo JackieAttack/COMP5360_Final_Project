{
 "cells": [
  {
   "cell_type": "code",
   "execution_count": 1,
   "id": "455f6e67",
   "metadata": {},
   "outputs": [],
   "source": [
    "import pandas as pd\n",
    "import numpy as np"
   ]
  },
  {
   "cell_type": "code",
   "execution_count": 13,
   "id": "530953c0",
   "metadata": {},
   "outputs": [
    {
     "ename": "SyntaxError",
     "evalue": "(unicode error) 'unicodeescape' codec can't decode bytes in position 4-5: truncated \\UXXXXXXXX escape (2937885101.py, line 3)",
     "output_type": "error",
     "traceback": [
      "\u001b[1;36m  File \u001b[1;32m\"C:\\Users\\Jacki\\AppData\\Local\\Temp\\ipykernel_80756\\2937885101.py\"\u001b[1;36m, line \u001b[1;32m3\u001b[0m\n\u001b[1;33m    temp_df = pd.read_csv('data\\US_temp.csv')\u001b[0m\n\u001b[1;37m                                            ^\u001b[0m\n\u001b[1;31mSyntaxError\u001b[0m\u001b[1;31m:\u001b[0m (unicode error) 'unicodeescape' codec can't decode bytes in position 4-5: truncated \\UXXXXXXXX escape\n"
     ]
    }
   ],
   "source": [
    "cpi_df = pd.read_csv('data\\BLS_Seafood_CPI.csv')\n",
    "ppi_df = pd.read_csv('data\\BLS_Seafood_PPI.csv')\n",
    "temp_df = pd.read_csv('data\\US_temp.csv')\n",
    "#read_csv('data\\FAO_Capture_data')"
   ]
  },
  {
   "cell_type": "code",
   "execution_count": null,
   "id": "7cb65d52",
   "metadata": {},
   "outputs": [],
   "source": []
  }
 ],
 "metadata": {
  "kernelspec": {
   "display_name": "Python 3 (ipykernel)",
   "language": "python",
   "name": "python3"
  },
  "language_info": {
   "codemirror_mode": {
    "name": "ipython",
    "version": 3
   },
   "file_extension": ".py",
   "mimetype": "text/x-python",
   "name": "python",
   "nbconvert_exporter": "python",
   "pygments_lexer": "ipython3",
   "version": "3.9.13"
  }
 },
 "nbformat": 4,
 "nbformat_minor": 5
}
